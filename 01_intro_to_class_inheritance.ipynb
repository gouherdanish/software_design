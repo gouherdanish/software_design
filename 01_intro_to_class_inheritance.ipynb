{
 "cells": [
  {
   "cell_type": "markdown",
   "id": "f2e1e302-5df9-468c-bcb9-5ec8daa78fbc",
   "metadata": {},
   "source": [
    "## Problem"
   ]
  },
  {
   "cell_type": "markdown",
   "id": "0861bf66-2ce2-4dd4-ac80-d07c9faa4de3",
   "metadata": {},
   "source": [
    "**Based on the user input, we need to do some task**\n",
    "\n",
    "```\n",
    "if geom_type == 'circle': draw a circle\n",
    "elif geom_type == 'square': draw a square\n",
    "elif ...\n",
    "```"
   ]
  },
  {
   "cell_type": "markdown",
   "id": "5facf4c4-c30b-4190-96c9-33d6494c93e0",
   "metadata": {},
   "source": [
    "## Using Monolithic Code is easy "
   ]
  },
  {
   "cell_type": "code",
   "execution_count": 1,
   "id": "2635d64a-c29e-45fe-9ada-7c9470f8a642",
   "metadata": {},
   "outputs": [],
   "source": [
    "def draw(geom_type):\n",
    "    if geom_type == 'circle':\n",
    "        print(\"Drawing a circle\")\n",
    "    elif geom_type == 'square':\n",
    "        print(\"Drawing a square\")\n",
    "    else:\n",
    "        ..."
   ]
  },
  {
   "cell_type": "code",
   "execution_count": 2,
   "id": "737becaa-d607-46d0-bca0-1a00e7e9d5fb",
   "metadata": {},
   "outputs": [
    {
     "name": "stdout",
     "output_type": "stream",
     "text": [
      "Drawing a square\n"
     ]
    }
   ],
   "source": [
    "# CLIENT CODE\n",
    "geom_type = 'square'\n",
    "draw(geom_type)"
   ]
  },
  {
   "cell_type": "markdown",
   "id": "81e472f0-ad3a-41ad-81e3-099499817258",
   "metadata": {},
   "source": [
    "## But changing a Monolithic Code is tough"
   ]
  },
  {
   "cell_type": "code",
   "execution_count": 6,
   "id": "8a4b87ac-79d3-4e8a-ba3f-599e21beb6b7",
   "metadata": {},
   "outputs": [],
   "source": [
    "# Implementing the function for another geom_type `Hexagon`\n",
    "def draw(geom_type):\n",
    "    if geom_type == 'circle':\n",
    "        return \"Drawing a circle\"\n",
    "    elif geom_type == 'square':\n",
    "        return \"Drawing a square\"\n",
    "    elif geom_type == 'hexagon':\n",
    "        return \"Drawing a hexagon\"\n",
    "    else:\n",
    "        ..."
   ]
  },
  {
   "cell_type": "code",
   "execution_count": 7,
   "id": "643737a7-7be5-4708-81c0-05dafb3b3ae5",
   "metadata": {},
   "outputs": [],
   "source": [
    "# Adding a new functionality for the geometries\n",
    "\n",
    "from math import pi\n",
    "\n",
    "def area(geom_type,side=0.,radius=0.):\n",
    "    if geom_type == 'circle':\n",
    "        return pi * radius ** 2\n",
    "    elif geom_type == 'square':\n",
    "        return side ** 2\n",
    "    elif geom_type == 'hexagon':\n",
    "        factor = 0.5 *(3 ** 1.5)\n",
    "        return factor * side ** 2\n",
    "    else:\n",
    "        ..."
   ]
  },
  {
   "cell_type": "code",
   "execution_count": 8,
   "id": "56091526-1e85-4ea6-ab0e-181d0c119eb8",
   "metadata": {},
   "outputs": [
    {
     "name": "stdout",
     "output_type": "stream",
     "text": [
      "Drawing a circle of area 12.566370614359172\n"
     ]
    }
   ],
   "source": [
    "# CLIENT CODE\n",
    "geom_type = 'circle'\n",
    "radius = 2\n",
    "side = 2\n",
    "print(f'{draw(geom_type)} of area {area(geom_type,side=side,radius=radius)}')"
   ]
  },
  {
   "cell_type": "markdown",
   "id": "b4a848aa-60d0-4713-b5b3-9b62183fc6a4",
   "metadata": {},
   "source": [
    "# Using Class provides structure and readability"
   ]
  },
  {
   "cell_type": "code",
   "execution_count": 9,
   "id": "dcebe0b3-dfa5-403e-8877-dbb35de2e34f",
   "metadata": {},
   "outputs": [],
   "source": [
    "from abc import ABC, abstractmethod\n",
    "\n",
    "# Parent Class\n",
    "class Shape(ABC):\n",
    "    @abstractmethod\n",
    "    def draw(self):\n",
    "        pass\n",
    "    \n",
    "    @abstractmethod\n",
    "    def area(self):\n",
    "        pass"
   ]
  },
  {
   "cell_type": "code",
   "execution_count": 10,
   "id": "6dd7d2c2-06bc-484c-b7e9-67d183e739d9",
   "metadata": {},
   "outputs": [],
   "source": [
    "# Child Class\n",
    "class Circle(Shape):\n",
    "    def __init__(self,**kwargs):\n",
    "        self.radius = kwargs['radius']\n",
    "        \n",
    "    def draw(self):\n",
    "        return \"Drawing a circle\"\n",
    "        \n",
    "    @property\n",
    "    def area(self):\n",
    "        return pi * self.radius ** 2\n",
    "\n",
    "class Square(Shape):\n",
    "    def __init__(self,**kwargs):\n",
    "        self.side = kwargs['side']\n",
    "        \n",
    "    def draw(self):\n",
    "        return \"Drawing a square\"\n",
    "        \n",
    "    @property\n",
    "    def area(self):\n",
    "        return self.side ** 2"
   ]
  },
  {
   "cell_type": "markdown",
   "id": "9e975b75-8f94-4520-b70c-5c560672649d",
   "metadata": {},
   "source": [
    "# New use cases can be built without changing existing code"
   ]
  },
  {
   "cell_type": "code",
   "execution_count": 11,
   "id": "df098971-68af-4354-848d-894824680b76",
   "metadata": {},
   "outputs": [],
   "source": [
    "class Hexagon(Shape):\n",
    "    def __init__(self,**kwargs):\n",
    "        self.side = kwargs['side']\n",
    "    \n",
    "    def draw(self):\n",
    "        return \"Drawing a hexagon\"\n",
    "\n",
    "    @property\n",
    "    def area(self):\n",
    "        factor = 0.5 *(3 ** 1.5)\n",
    "        return factor * self.side ** 2"
   ]
  },
  {
   "cell_type": "code",
   "execution_count": 15,
   "id": "e928719b-e935-4e3c-8514-b4e1d388edf3",
   "metadata": {},
   "outputs": [
    {
     "name": "stdout",
     "output_type": "stream",
     "text": [
      "Drawing a hexagon of area 10.392304845413264\n"
     ]
    }
   ],
   "source": [
    "# CLIENT CODE\n",
    "geom_type = 'hexagon'\n",
    "radius = 2\n",
    "side = 2\n",
    "\n",
    "if geom_type == 'circle':\n",
    "    geom = Circle(radius=radius)\n",
    "elif geom_type == 'square':\n",
    "    geom = Square(side=side)\n",
    "elif geom_type == 'hexagon':\n",
    "    geom = Hexagon(side=side)\n",
    "else:\n",
    "    ...\n",
    "print(f'{geom.draw()} of area {geom.area}')"
   ]
  },
  {
   "cell_type": "code",
   "execution_count": null,
   "id": "966bb5b6-0344-4861-9ef1-71714c8da247",
   "metadata": {},
   "outputs": [],
   "source": []
  }
 ],
 "metadata": {
  "kernelspec": {
   "display_name": "Python 3 (ipykernel)",
   "language": "python",
   "name": "python3"
  },
  "language_info": {
   "codemirror_mode": {
    "name": "ipython",
    "version": 3
   },
   "file_extension": ".py",
   "mimetype": "text/x-python",
   "name": "python",
   "nbconvert_exporter": "python",
   "pygments_lexer": "ipython3",
   "version": "3.9.16"
  }
 },
 "nbformat": 4,
 "nbformat_minor": 5
}
