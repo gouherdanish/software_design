{
 "cells": [
  {
   "cell_type": "markdown",
   "id": "bdfc2139-23e8-488d-a64c-8b59a72e3ecc",
   "metadata": {},
   "source": [
    "## Inheritance"
   ]
  },
  {
   "cell_type": "markdown",
   "id": "c0385aa1-c7c0-4871-ba25-f1cdcf9d653b",
   "metadata": {},
   "source": [
    "**Inheritance provides**\n",
    "- reusability\n",
    "- extensibility\n",
    "- avoids code duplication"
   ]
  },
  {
   "cell_type": "markdown",
   "id": "306d6203-d877-4616-800b-8e0e4d4442f8",
   "metadata": {},
   "source": [
    "In the last lecture, we saw how classes bring structure and readability to our code\n",
    "\n",
    "Specifically, Parent class defines the interface and structure first.\n",
    "Then, child classes implement it accordingly"
   ]
  },
  {
   "cell_type": "markdown",
   "id": "0db88f8b-484c-4a62-b45b-0e23949fa3eb",
   "metadata": {},
   "source": [
    "Moving forward from our geometry example, here is the parent class"
   ]
  },
  {
   "cell_type": "code",
   "execution_count": 6,
   "id": "aea0f45c-f9ca-49fa-9be7-91c6f9a7c735",
   "metadata": {},
   "outputs": [],
   "source": [
    "from abc import ABC, abstractmethod\n",
    "from math import pi\n",
    "\n",
    "# Parent Class\n",
    "class Shape(ABC):\n",
    "    @abstractmethod\n",
    "    def draw(self):\n",
    "        pass\n",
    "    \n",
    "    @abstractmethod\n",
    "    def area(self):\n",
    "        pass"
   ]
  },
  {
   "cell_type": "markdown",
   "id": "e38c832f-3ac0-43d3-8942-eff245f7831e",
   "metadata": {},
   "source": [
    "Below we see how Child classes - Circle and Square implement the abstract methods as per their definitions"
   ]
  },
  {
   "cell_type": "code",
   "execution_count": 3,
   "id": "5a712f9c-6fee-4432-abf9-12ffa3cb42b3",
   "metadata": {},
   "outputs": [],
   "source": [
    "# Child Class\n",
    "class Circle(Shape):\n",
    "    def __init__(self,**kwargs):\n",
    "        self.radius = kwargs['radius']\n",
    "        \n",
    "    def draw(self):\n",
    "        return \"Drawing a circle\"\n",
    "        \n",
    "    @property\n",
    "    def area(self):\n",
    "        return pi * self.radius ** 2\n",
    "\n",
    "class Square(Shape):\n",
    "    def __init__(self,**kwargs):\n",
    "        self.side = kwargs['side']\n",
    "        \n",
    "    def draw(self):\n",
    "        return \"Drawing a square\"\n",
    "        \n",
    "    @property\n",
    "    def area(self):\n",
    "        return self.side ** 2"
   ]
  },
  {
   "cell_type": "markdown",
   "id": "f58cb890-9fa2-43e5-9f38-68ebec9bcf0b",
   "metadata": {},
   "source": [
    "## Taking Inheritance Further"
   ]
  },
  {
   "cell_type": "markdown",
   "id": "77431a34-aa78-4610-9dbc-2ad519d6914c",
   "metadata": {},
   "source": [
    "Suppose we want to create a class which has a combination of two geometries e.g.\n",
    "- Circle with a hole\n",
    "- Square with a hole\n",
    "\n",
    "(Assume that a hole is always of circular shape)\n",
    "\n",
    "One obvious approach is using Inheritance which can be read as\n",
    "- CircleWithHole is a circle with a hole (is-A relation)\n",
    "- SquareWithHole is a square with a hole (is-A relation)"
   ]
  },
  {
   "cell_type": "code",
   "execution_count": 4,
   "id": "c4b1f5ff-d414-483b-90d5-7adcd4ca83a8",
   "metadata": {},
   "outputs": [],
   "source": [
    "# CircleWithHole -> is-A -> Circle\n",
    "class CircleWithHole(Circle):\n",
    "    def __init__(self,**kwargs):\n",
    "        super().__init__(radius=kwargs['radius'])\n",
    "        self.hole_radius = kwargs['hole_radius']\n",
    "        \n",
    "    def draw(self):\n",
    "        return \"Drawing a circle with hole\"\n",
    "        \n",
    "    @property\n",
    "    def area(self):\n",
    "        return super().area - pi * self.hole_radius ** 2"
   ]
  },
  {
   "cell_type": "code",
   "execution_count": 7,
   "id": "7c79e62b-26e7-4dc9-a278-b1b77be28d2b",
   "metadata": {},
   "outputs": [
    {
     "name": "stdout",
     "output_type": "stream",
     "text": [
      "Drawing a circle with hole of area 9.42477796076938\n"
     ]
    }
   ],
   "source": [
    "# CLIENT CODE\n",
    "geom_type = 'circleWithHole'\n",
    "radius = 2\n",
    "side = 2\n",
    "hole_radius = 1\n",
    "\n",
    "if geom_type == 'circle':\n",
    "    geom = Circle(radius=radius)\n",
    "elif geom_type == 'square':\n",
    "    geom = Square(side=side)\n",
    "elif geom_type == 'circleWithHole':\n",
    "    geom = CircleWithHole(radius=radius,hole_radius=hole_radius)\n",
    "else:\n",
    "    ...\n",
    "    \n",
    "print(f'{geom.draw()} of area {geom.area}')"
   ]
  },
  {
   "cell_type": "markdown",
   "id": "d91edb76-1770-48da-a581-9da75b9cf975",
   "metadata": {},
   "source": [
    "# Problem with Inheritance"
   ]
  },
  {
   "cell_type": "markdown",
   "id": "7305e31d-d5f3-4dc6-ae30-284c09131a81",
   "metadata": {},
   "source": [
    "### 1. Class Hierarchy introduces Coupling\n",
    "We can see how CircleWithHole sub-class has to know about its super class in init method\n",
    "If we changed the definition of super class, it has to be changed in child class as well.\n",
    "This is called coupling"
   ]
  },
  {
   "cell_type": "markdown",
   "id": "fa5a3eed-d7f9-4523-80a6-c219ebfb5637",
   "metadata": {},
   "source": [
    "To understand this, let's change the definition of `Circle` class to take another parameter `color` and let's also modify the corresponding `draw` method"
   ]
  },
  {
   "cell_type": "code",
   "execution_count": 10,
   "id": "fafc720f-fac6-4031-af23-cdfd754606f1",
   "metadata": {},
   "outputs": [],
   "source": [
    "class Circle(Shape):\n",
    "    def __init__(self,**kwargs):\n",
    "        self.radius = kwargs['radius']\n",
    "        self.color = kwargs['color']\n",
    "        \n",
    "    def draw(self):\n",
    "        return f\"Drawing a {self.color} circle\"\n",
    "        \n",
    "    @property\n",
    "    def area(self):\n",
    "        return pi * self.radius ** 2"
   ]
  },
  {
   "cell_type": "markdown",
   "id": "9edbb3f5-177f-4dc9-a785-f5ae4000ffaa",
   "metadata": {},
   "source": [
    "To consume this change in super class `Circle`, we also need to change it in the sub-class `CircleWithHole`.\n",
    "\n",
    "This coupling issue can become a big pain in production code"
   ]
  },
  {
   "cell_type": "code",
   "execution_count": 11,
   "id": "04457b64-e7a5-480a-8e5e-9dbb27ff4ec6",
   "metadata": {},
   "outputs": [],
   "source": [
    "class CircleWithHole(Circle):\n",
    "    def __init__(self,**kwargs):\n",
    "        super().__init__(radius=kwargs['radius'],color=kwargs['color'])\n",
    "        self.hole_radius = kwargs['hole_radius']\n",
    "        \n",
    "    def draw(self):\n",
    "        return f\"Drawing a {self.color} circle with hole\"\n",
    "        \n",
    "    @property\n",
    "    def area(self):\n",
    "        return super().area - pi * self.hole_radius ** 2"
   ]
  },
  {
   "cell_type": "code",
   "execution_count": 14,
   "id": "929be00a-8b94-4435-9c16-a4ed1d4f9c6e",
   "metadata": {},
   "outputs": [
    {
     "name": "stdout",
     "output_type": "stream",
     "text": [
      "Drawing a red circle with hole of area 9.42477796076938\n"
     ]
    }
   ],
   "source": [
    "# CLIENT CODE\n",
    "geom_type = 'circleWithHole'\n",
    "radius = 2\n",
    "side = 2\n",
    "hole_radius = 1\n",
    "color = 'red'\n",
    "\n",
    "if geom_type == 'circle':\n",
    "    geom = Circle(radius=radius,color=color)\n",
    "elif geom_type == 'circleWithHole':\n",
    "    geom = CircleWithHole(radius=radius,color=color,hole_radius=hole_radius)\n",
    "else:\n",
    "    ...\n",
    "    \n",
    "print(f'{geom.draw()} of area {geom.area}')"
   ]
  },
  {
   "cell_type": "markdown",
   "id": "dcb26a85-e59a-4075-b81d-cbbab3fb3d82",
   "metadata": {},
   "source": [
    "### 2. Indeterminate explosion of child classes\n",
    "Suppose we want to create more hieararchy of sub-classes e.g.\n",
    "- SquareWithHole\n",
    "- HexagonWithHole\n",
    "- CircleWithHoleAndPadding\n",
    "- etc.\n",
    "\n",
    "We would need to implement each and every child classes which will involve lot of duplicate code.\n",
    "\n",
    "In the example below, we implement `SquareWithHole` sub-class. \n",
    "\n",
    "Notice how the area method is completely same, still it needs to be implemented in each child class"
   ]
  },
  {
   "cell_type": "code",
   "execution_count": 8,
   "id": "9d0710bc-c064-41a0-8ff5-6871dbb6df1d",
   "metadata": {},
   "outputs": [],
   "source": [
    "# SquareWithHole -> is-A -> Square\n",
    "class SquareWithHole(Square):\n",
    "    def __init__(self,**kwargs):\n",
    "        super().__init__(side=kwargs['side'])\n",
    "        self.hole_radius = kwargs['hole_radius']\n",
    "        \n",
    "    def draw(self):\n",
    "        return \"Drawing a square with hole\"\n",
    "        \n",
    "    @property\n",
    "    def area(self):\n",
    "        return super().area - pi * self.hole_radius ** 2"
   ]
  },
  {
   "cell_type": "code",
   "execution_count": null,
   "id": "1aa11292-8cf7-4021-bf49-45c327d37b8e",
   "metadata": {},
   "outputs": [],
   "source": []
  },
  {
   "cell_type": "code",
   "execution_count": null,
   "id": "84d7dafb-4216-4a62-9fd6-7ee2d6e890d4",
   "metadata": {},
   "outputs": [],
   "source": []
  }
 ],
 "metadata": {
  "kernelspec": {
   "display_name": "Python 3 (ipykernel)",
   "language": "python",
   "name": "python3"
  },
  "language_info": {
   "codemirror_mode": {
    "name": "ipython",
    "version": 3
   },
   "file_extension": ".py",
   "mimetype": "text/x-python",
   "name": "python",
   "nbconvert_exporter": "python",
   "pygments_lexer": "ipython3",
   "version": "3.9.17"
  }
 },
 "nbformat": 4,
 "nbformat_minor": 5
}
