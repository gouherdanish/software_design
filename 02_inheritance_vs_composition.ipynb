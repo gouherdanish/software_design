{
 "cells": [
  {
   "cell_type": "markdown",
   "id": "bdfc2139-23e8-488d-a64c-8b59a72e3ecc",
   "metadata": {},
   "source": [
    "## Inheritance"
   ]
  },
  {
   "cell_type": "markdown",
   "id": "c0385aa1-c7c0-4871-ba25-f1cdcf9d653b",
   "metadata": {},
   "source": [
    "**Inheritance provides**\n",
    "- reusability\n",
    "- extensibility\n",
    "- avoids code duplication"
   ]
  },
  {
   "cell_type": "markdown",
   "id": "306d6203-d877-4616-800b-8e0e4d4442f8",
   "metadata": {},
   "source": [
    "In the last lecture, we saw how classes bring structure and readability to our code\n",
    "\n",
    "Specifically, Parent class defines the interface and structure first.\n",
    "Then, child classes implement it accordingly"
   ]
  },
  {
   "cell_type": "markdown",
   "id": "0db88f8b-484c-4a62-b45b-0e23949fa3eb",
   "metadata": {},
   "source": [
    "Moving forward from our geometry example, here is the parent class"
   ]
  },
  {
   "cell_type": "code",
   "execution_count": 6,
   "id": "aea0f45c-f9ca-49fa-9be7-91c6f9a7c735",
   "metadata": {},
   "outputs": [],
   "source": [
    "from abc import ABC, abstractmethod\n",
    "from math import pi\n",
    "\n",
    "# Parent Class\n",
    "class Shape(ABC):\n",
    "    @abstractmethod\n",
    "    def draw(self):\n",
    "        pass\n",
    "    \n",
    "    @abstractmethod\n",
    "    def area(self):\n",
    "        pass"
   ]
  },
  {
   "cell_type": "markdown",
   "id": "e38c832f-3ac0-43d3-8942-eff245f7831e",
   "metadata": {},
   "source": [
    "Below we see how Child classes - Circle and Square implement the abstract methods as per their definitions"
   ]
  },
  {
   "cell_type": "code",
   "execution_count": 3,
   "id": "5a712f9c-6fee-4432-abf9-12ffa3cb42b3",
   "metadata": {},
   "outputs": [],
   "source": [
    "# Child Class\n",
    "class Circle(Shape):\n",
    "    def __init__(self,**kwargs):\n",
    "        self.radius = kwargs['radius']\n",
    "\n",
    "    def __repr__(self):\n",
    "        return f'Circle(r={self.radius})'\n",
    "        \n",
    "    def draw(self):\n",
    "        return \"Drawing a circle\"\n",
    "        \n",
    "    @property\n",
    "    def area(self):\n",
    "        return pi * self.radius ** 2\n",
    "\n",
    "class Square(Shape):\n",
    "    def __init__(self,**kwargs):\n",
    "        self.side = kwargs['side']\n",
    "\n",
    "    def __repr__(self):\n",
    "        return f'Square(a={self.side})'\n",
    "        \n",
    "    def draw(self):\n",
    "        return \"Drawing a square\"\n",
    "        \n",
    "    @property\n",
    "    def area(self):\n",
    "        return self.side ** 2"
   ]
  },
  {
   "cell_type": "markdown",
   "id": "f58cb890-9fa2-43e5-9f38-68ebec9bcf0b",
   "metadata": {},
   "source": [
    "## Taking Inheritance Further"
   ]
  },
  {
   "cell_type": "markdown",
   "id": "77431a34-aa78-4610-9dbc-2ad519d6914c",
   "metadata": {},
   "source": [
    "Suppose we want to create a class which has a combination of two geometries e.g.\n",
    "- Circle with a hole\n",
    "- Square with a hole\n",
    "\n",
    "(Assume that a hole is always of circular shape)\n",
    "\n",
    "One obvious approach is using Inheritance which can be read as\n",
    "- CircleWithHole is a circle with a hole (is-A relation)\n",
    "- SquareWithHole is a square with a hole (is-A relation)"
   ]
  },
  {
   "cell_type": "code",
   "execution_count": 29,
   "id": "c4b1f5ff-d414-483b-90d5-7adcd4ca83a8",
   "metadata": {},
   "outputs": [],
   "source": [
    "# CircleWithHole -> is-A -> Circle\n",
    "class CircleWithHole(Circle):\n",
    "    def __init__(self,**kwargs):\n",
    "        super().__init__(radius=kwargs['radius'])\n",
    "        self.hole_radius = kwargs['hole_radius']\n",
    "\n",
    "    def __repr__(self):\n",
    "        return f\"CircleWithHole(r={self.radius},r'={self.hole_radius})\"\n",
    "        \n",
    "    def draw(self):\n",
    "        return \"Drawing a circle with hole\"\n",
    "        \n",
    "    @property\n",
    "    def area(self):\n",
    "        return super().area - pi * self.hole_radius ** 2"
   ]
  },
  {
   "cell_type": "code",
   "execution_count": 30,
   "id": "7c79e62b-26e7-4dc9-a278-b1b77be28d2b",
   "metadata": {},
   "outputs": [
    {
     "name": "stdout",
     "output_type": "stream",
     "text": [
      "Drawing a circle with hole of area 9.42477796076938\n"
     ]
    }
   ],
   "source": [
    "# CLIENT CODE\n",
    "radius = 2\n",
    "side = 2\n",
    "hole_radius = 1\n",
    "\n",
    "geom = CircleWithHole(radius=radius,hole_radius=hole_radius)\n",
    "print(f'{geom.draw()} of area {geom.area}')"
   ]
  },
  {
   "cell_type": "markdown",
   "id": "d91edb76-1770-48da-a581-9da75b9cf975",
   "metadata": {},
   "source": [
    "# Problem with Inheritance"
   ]
  },
  {
   "cell_type": "markdown",
   "id": "7305e31d-d5f3-4dc6-ae30-284c09131a81",
   "metadata": {},
   "source": [
    "### 1. Class Hierarchy introduces Coupling\n",
    "We can see how CircleWithHole sub-class has to know about its super class in init method\n",
    "If we changed the definition of super class, it has to be changed in child class as well.\n",
    "This is called coupling"
   ]
  },
  {
   "cell_type": "markdown",
   "id": "fa5a3eed-d7f9-4523-80a6-c219ebfb5637",
   "metadata": {},
   "source": [
    "To understand this, let's change the definition of `Circle` class to take another parameter `color` and let's also modify the corresponding `draw` method"
   ]
  },
  {
   "cell_type": "code",
   "execution_count": 50,
   "id": "fafc720f-fac6-4031-af23-cdfd754606f1",
   "metadata": {},
   "outputs": [],
   "source": [
    "class Circle(Shape):\n",
    "    def __init__(self,**kwargs):\n",
    "        self.radius = kwargs['radius']\n",
    "        self.color = kwargs['color']\n",
    "        \n",
    "    def draw(self):\n",
    "        return f\"Drawing a {self.color} circle\"\n",
    "        \n",
    "    @property\n",
    "    def area(self):\n",
    "        return pi * self.radius ** 2"
   ]
  },
  {
   "cell_type": "markdown",
   "id": "9edbb3f5-177f-4dc9-a785-f5ae4000ffaa",
   "metadata": {},
   "source": [
    "To consume this change in super class `Circle`, we also need to change it in the sub-class `CircleWithHole`.\n",
    "\n",
    "This coupling issue can become a big pain in production code"
   ]
  },
  {
   "cell_type": "code",
   "execution_count": 51,
   "id": "04457b64-e7a5-480a-8e5e-9dbb27ff4ec6",
   "metadata": {},
   "outputs": [],
   "source": [
    "class CircleWithHole(Circle):\n",
    "    def __init__(self,**kwargs):\n",
    "        super().__init__(radius=kwargs['radius'],color=kwargs['color'])\n",
    "        self.hole_radius = kwargs['hole_radius']\n",
    "        \n",
    "    def __repr__(self):\n",
    "        return f\"CircleWithHole(r={self.radius},r'={self.hole_radius})\"\n",
    "        \n",
    "    def draw(self):\n",
    "        return f\"Drawing a {self.color} circle with hole\"\n",
    "        \n",
    "    @property\n",
    "    def area(self):\n",
    "        return super().area - pi * self.hole_radius ** 2"
   ]
  },
  {
   "cell_type": "code",
   "execution_count": 55,
   "id": "929be00a-8b94-4435-9c16-a4ed1d4f9c6e",
   "metadata": {},
   "outputs": [
    {
     "data": {
      "text/plain": [
       "'Drawing a red circle with hole'"
      ]
     },
     "execution_count": 55,
     "metadata": {},
     "output_type": "execute_result"
    }
   ],
   "source": [
    "# CLIENT CODE\n",
    "radius = 2\n",
    "hole_radius = 1\n",
    "color = 'red'\n",
    "\n",
    "geom = CircleWithHole(radius=radius,color=color,hole_radius=hole_radius)\n",
    "geom.draw()"
   ]
  },
  {
   "cell_type": "markdown",
   "id": "dcb26a85-e59a-4075-b81d-cbbab3fb3d82",
   "metadata": {},
   "source": [
    "### 2. Indeterminate explosion of child classes\n",
    "Suppose we want to create more hieararchy of sub-classes e.g.\n",
    "- SquareWithHole\n",
    "- HexagonWithHole\n",
    "- CircleWithHoleAndPadding\n",
    "- etc.\n",
    "\n",
    "We would need to implement each and every child classes which will involve lot of duplicate code.\n",
    "\n",
    "In the example below, we implement `SquareWithHole` sub-class. \n",
    "\n",
    "Notice how the area method is completely same, still it needs to be implemented in each child class"
   ]
  },
  {
   "cell_type": "code",
   "execution_count": 31,
   "id": "9d0710bc-c064-41a0-8ff5-6871dbb6df1d",
   "metadata": {},
   "outputs": [],
   "source": [
    "# SquareWithHole -> is-A -> Square\n",
    "class SquareWithHole(Square):\n",
    "    def __init__(self,**kwargs):\n",
    "        super().__init__(side=kwargs['side'])\n",
    "        self.hole_radius = kwargs['hole_radius']\n",
    "\n",
    "    def __repr__(self):\n",
    "        return f\"SquareWithHole(a={self.side},r'={self.hole_radius})\"\n",
    "        \n",
    "    def draw(self):\n",
    "        return \"Drawing a square with hole\"\n",
    "        \n",
    "    @property\n",
    "    def area(self):\n",
    "        return super().area - pi * self.hole_radius ** 2"
   ]
  },
  {
   "cell_type": "code",
   "execution_count": 32,
   "id": "4b63e409-4271-4e7f-a024-1c0ea4ba7861",
   "metadata": {},
   "outputs": [
    {
     "data": {
      "text/plain": [
       "SquareWithHole(a=2,r'=1)"
      ]
     },
     "execution_count": 32,
     "metadata": {},
     "output_type": "execute_result"
    }
   ],
   "source": [
    "# CLIENT CODE\n",
    "radius = 2\n",
    "side = 2\n",
    "hole_radius = 1\n",
    "\n",
    "# Creates SquareWithHole\n",
    "geom = SquareWithHole(side=side,hole_radius=hole_radius)\n",
    "geom"
   ]
  },
  {
   "cell_type": "code",
   "execution_count": 33,
   "id": "8978cffb-2b17-4195-abc4-2eb289d51157",
   "metadata": {},
   "outputs": [
    {
     "data": {
      "text/plain": [
       "0.8584073464102069"
      ]
     },
     "execution_count": 33,
     "metadata": {},
     "output_type": "execute_result"
    }
   ],
   "source": [
    "geom.area"
   ]
  },
  {
   "cell_type": "markdown",
   "id": "e7950349-f88a-4199-a85a-88827ae5c936",
   "metadata": {},
   "source": [
    "# Introducing Composition"
   ]
  },
  {
   "cell_type": "markdown",
   "id": "c222f3c0-d862-47f4-a356-caf5a2f52fac",
   "metadata": {},
   "source": [
    "Composition is a way to compose new child classes by writing the business logic at one place.\n",
    "- reduces coupling and\n",
    "- avoids code duplication"
   ]
  },
  {
   "cell_type": "markdown",
   "id": "92799189-4e8a-490b-a0e6-8a8142fad3a5",
   "metadata": {},
   "source": [
    "Once again, let's have our parent geometries defined as below"
   ]
  },
  {
   "cell_type": "code",
   "execution_count": 39,
   "id": "db0f0f31-c0d7-4322-bbb1-46bcb6309bea",
   "metadata": {},
   "outputs": [],
   "source": [
    "from abc import ABC, abstractmethod\n",
    "\n",
    "# Parent Class\n",
    "class Shape(ABC):\n",
    "    \n",
    "    @abstractmethod\n",
    "    def area(self):\n",
    "        pass\n",
    "\n",
    "# Child Class\n",
    "class Circle(Shape):\n",
    "    def __init__(self,**kwargs):\n",
    "        self.radius = kwargs['radius']\n",
    "        \n",
    "    def __repr__(self):\n",
    "        return f'Circle(r={self.radius})'\n",
    "        \n",
    "    @property\n",
    "    def area(self):\n",
    "        return pi * self.radius ** 2\n",
    "\n",
    "class Square(Shape):\n",
    "    def __init__(self,**kwargs):\n",
    "        self.side = kwargs['side']\n",
    "        \n",
    "    def __repr__(self):\n",
    "        return f'Square(a={self.side})'\n",
    "        \n",
    "    @property\n",
    "    def area(self):\n",
    "        return self.side ** 2\n",
    "\n",
    "class Hexagon(Shape):\n",
    "    def __init__(self,**kwargs):\n",
    "        self.side = kwargs['side']\n",
    "        \n",
    "    def __repr__(self):\n",
    "        return f'Hexagon(a={self.side})'\n",
    "    \n",
    "    @property\n",
    "    def area(self):\n",
    "        factor = 0.5 *(3 ** 1.5)\n",
    "        return factor * self.side ** 2\n",
    "\n",
    "class Rectangle(Shape):\n",
    "    def __init__(self,**kwargs):\n",
    "        self.length = kwargs['length']\n",
    "        self.width = kwargs['width']\n",
    "        \n",
    "    def __repr__(self):\n",
    "        return f'Rectangle(l={self.length}, b={self.width})'\n",
    "    \n",
    "    @property\n",
    "    def area(self):\n",
    "        return self.length * self.width"
   ]
  },
  {
   "cell_type": "markdown",
   "id": "cce85d42-a8e8-4ff8-924c-5dd1f4e2d55e",
   "metadata": {},
   "source": [
    "To create new geometries which are a hierarchy / combination / mixture of the above base geometries, we can use Composition instead of Inheritance as shown below.\n",
    "\n",
    "Below we define a `CustomShape` parent class which takes two shapes as init arguments\n",
    "- `base_shape` which can be any basic geometry e.g. Circle, Square, Hexagon etc.\n",
    "- `hole_shape` which is assumed to be circular for simplicity but can be anything"
   ]
  },
  {
   "cell_type": "code",
   "execution_count": 44,
   "id": "0d377d48-e6b8-4f92-8ba8-61168721673a",
   "metadata": {},
   "outputs": [],
   "source": [
    "class CustomShape:\n",
    "    def __init__(self,**kwargs):\n",
    "        self.base_shape: Shape = kwargs['base_shape']\n",
    "        self.hole_shape: Shape = kwargs['hole_shape']\n",
    "\n",
    "    def __repr__(self):\n",
    "        return f'CustomShape(base_shape={self.base_shape}, hole_shape={self.hole_shape})'\n",
    "        \n",
    "    @property\n",
    "    def area(self):\n",
    "        return self.base_shape.area - self.hole_shape.area"
   ]
  },
  {
   "cell_type": "markdown",
   "id": "419068b6-ef6c-4b6e-9024-fb0b413c7a29",
   "metadata": {},
   "source": [
    "# Inheritance vs Composition\n",
    "\n",
    "## 1. Solving Exponential Explosion of Child Classes Using Composition\n",
    "- There is no need to create multiple sub-classes anymore\n",
    "- Using Composition, it is very easy to create any new class by just defining the base shape and hole shape.\n",
    "- There is no code duplication"
   ]
  },
  {
   "cell_type": "markdown",
   "id": "76f95770-c266-4ff7-ae7d-6d222d694dc3",
   "metadata": {},
   "source": [
    "### Case 1. Composing SquareWithHole as a CustomShape\n",
    "\n",
    "Composition can be attributed as has-A relation.\n",
    "\n",
    "As shown below, `SquareWithHole` can easily be composed using `CustomShape` class as follows\n",
    "- `SquareWithHole` has a Square base shape and a Circular hole shape"
   ]
  },
  {
   "cell_type": "code",
   "execution_count": 37,
   "id": "1aa11292-8cf7-4021-bf49-45c327d37b8e",
   "metadata": {},
   "outputs": [
    {
     "data": {
      "text/plain": [
       "(CustomShape(base_shape=Square(a=2), hole_shape=Circle(r=1)),\n",
       " 0.8584073464102069)"
      ]
     },
     "execution_count": 37,
     "metadata": {},
     "output_type": "execute_result"
    }
   ],
   "source": [
    "# CLIENT CODE\n",
    "side = 2\n",
    "hole_radius = 1\n",
    "\n",
    "# Creates SquareWithHole\n",
    "geom = CustomShape(base_shape=Square(side=side),hole_shape=Circle(radius=hole_radius))\n",
    "# Finding area\n",
    "geom, geom.area"
   ]
  },
  {
   "cell_type": "markdown",
   "id": "dfce3323-dca4-45f6-82e4-16a9682811c9",
   "metadata": {},
   "source": [
    "### Case 2. Composing CircleWithHole as a CustomShape\n",
    "\n",
    "Similarly, `CircleWithHole` can easily be composed using `CustomShape` class as follows\n",
    "- `CircleWithHole` has a Circular base shape and a Circular hole shape"
   ]
  },
  {
   "cell_type": "code",
   "execution_count": 38,
   "id": "84d7dafb-4216-4a62-9fd6-7ee2d6e890d4",
   "metadata": {},
   "outputs": [
    {
     "data": {
      "text/plain": [
       "(CustomShape(base_shape=Circle(r=2), hole_shape=Circle(r=1)), 9.42477796076938)"
      ]
     },
     "execution_count": 38,
     "metadata": {},
     "output_type": "execute_result"
    }
   ],
   "source": [
    "# CLIENT CODE\n",
    "radius = 2\n",
    "hole_radius = 1\n",
    "\n",
    "# Creates CircleWithHole\n",
    "geom = CustomShape(base_shape=Circle(radius=radius),hole_shape=Circle(radius=hole_radius))\n",
    "# Finding area\n",
    "geom, geom.area"
   ]
  },
  {
   "cell_type": "markdown",
   "id": "bec70e46-d2e5-4eb6-ad54-2f554cf2e6ba",
   "metadata": {},
   "source": [
    "### Case 3. Composing RectangleWithSquareHole as a CustomShape\n",
    "\n",
    "Similarly, `RectangleWithSquareHole` can easily be composed using `CustomShape` class as follows\n",
    "- `RectangleWithSquareHole` has a Rectangle base shape and a Square hole shape"
   ]
  },
  {
   "cell_type": "code",
   "execution_count": 40,
   "id": "a1257b80-5188-4f0d-819f-914ef4dcd0d3",
   "metadata": {},
   "outputs": [
    {
     "data": {
      "text/plain": [
       "(CustomShape(base_shape=Rectangle(l=3, b=2), hole_shape=Square(a=1)), 5)"
      ]
     },
     "execution_count": 40,
     "metadata": {},
     "output_type": "execute_result"
    }
   ],
   "source": [
    "# CLIENT CODE\n",
    "length = 3\n",
    "width = 2\n",
    "hole_side = 1\n",
    "\n",
    "# Creates RectangleWithSquareHole\n",
    "geom = CustomShape(base_shape=Rectangle(length=length,width=width),hole_shape=Square(side=hole_side))\n",
    "# Finding area\n",
    "geom, geom.area"
   ]
  },
  {
   "cell_type": "markdown",
   "id": "7e8d3e1c-ced1-40f7-b0e7-edb64e242832",
   "metadata": {},
   "source": [
    "### Case 4. Composing HexagonWithCircularHole as a CustomShape\n",
    "\n",
    "Similarly, `HexagonWithCircularHole` can easily be composed using `CustomShape` class as follows\n",
    "- `HexagonWithCircularHole` has a Hexagon base shape and a Circle hole shape"
   ]
  },
  {
   "cell_type": "code",
   "execution_count": 41,
   "id": "fd39246c-8b7e-4c63-9116-dffdbff1c1a7",
   "metadata": {},
   "outputs": [
    {
     "data": {
      "text/plain": [
       "(CustomShape(base_shape=Hexagon(a=2), hole_shape=Circle(r=1)),\n",
       " 7.250712191823471)"
      ]
     },
     "execution_count": 41,
     "metadata": {},
     "output_type": "execute_result"
    }
   ],
   "source": [
    "# CLIENT CODE\n",
    "side = 2\n",
    "hole_radius = 1\n",
    "\n",
    "# Creates RectangleWithSquareHole\n",
    "geom = CustomShape(base_shape=Hexagon(side=side),hole_shape=Circle(radius=hole_radius))\n",
    "# Finding area\n",
    "geom, geom.area"
   ]
  },
  {
   "cell_type": "code",
   "execution_count": null,
   "id": "19c4171c-63de-46c3-b961-31ab7d5edef8",
   "metadata": {},
   "outputs": [],
   "source": []
  },
  {
   "cell_type": "markdown",
   "id": "459b8971-692c-434e-bf82-e31f6831d191",
   "metadata": {},
   "source": [
    "# Inheritance vs Composition\n",
    "\n",
    "## 2. Solving Coupling Issue with Composition\n",
    "- There is separation of concern between creation and use due to has-A relation\n",
    "- Hence, there is no coupling issue"
   ]
  },
  {
   "cell_type": "markdown",
   "id": "043c2fb2-11e4-43cf-82f9-013bc1381bb7",
   "metadata": {},
   "source": [
    "Suppose, we change our base geometry class `Circle` to include `color` and also modify the `draw` method"
   ]
  },
  {
   "cell_type": "code",
   "execution_count": 47,
   "id": "1bb576fd-8267-4414-b5ac-70cce152a39c",
   "metadata": {},
   "outputs": [],
   "source": [
    "class Circle(Shape):\n",
    "    def __init__(self,**kwargs):\n",
    "        self.radius = kwargs['radius']\n",
    "        self.color = kwargs['color']\n",
    "\n",
    "    def __repr__(self):\n",
    "        return f'Circle(r={self.radius})'\n",
    "        \n",
    "    def draw(self):\n",
    "        return f\"Drawing a {self.color} circle\"\n",
    "        \n",
    "    @property\n",
    "    def area(self):\n",
    "        return pi * self.radius ** 2"
   ]
  },
  {
   "cell_type": "markdown",
   "id": "6b91511b-a94e-4e54-9817-5af01ff41331",
   "metadata": {},
   "source": [
    "Due to this change, we saw how Inheritance yielded subsequent changes in child classes.\n",
    "\n",
    "But here, since we have used Composition, there is no need for any code change as there is no coupling. \n",
    "\n",
    "As observed below, the `CustomShape` class is a separate parent class and is not inheriting from any super class.\n",
    "- It is composed of two objects which are supplied in init arguments.\n",
    "- The `draw` method also does not depend on super class"
   ]
  },
  {
   "cell_type": "code",
   "execution_count": 48,
   "id": "9bd94ae5-2f79-4c8d-a497-9cd25862a98b",
   "metadata": {},
   "outputs": [],
   "source": [
    "class CustomShape:\n",
    "    def __init__(self,**kwargs):\n",
    "        self.base_shape: Shape = kwargs['base_shape']\n",
    "        self.hole_shape: Shape = kwargs['hole_shape']\n",
    "\n",
    "    def __repr__(self):\n",
    "        return f'CustomShape(base_shape={self.base_shape}, hole_shape={self.hole_shape})'\n",
    "\n",
    "    def draw(self):\n",
    "        return f'{self.base_shape.draw()} with hole'\n",
    "        \n",
    "    @property\n",
    "    def area(self):\n",
    "        return self.base_shape.area - self.hole_shape.area"
   ]
  },
  {
   "cell_type": "code",
   "execution_count": 54,
   "id": "a21f6408-f4bc-4b92-84f5-68c8e707e2c8",
   "metadata": {},
   "outputs": [
    {
     "data": {
      "text/plain": [
       "'Drawing a red circle with hole'"
      ]
     },
     "execution_count": 54,
     "metadata": {},
     "output_type": "execute_result"
    }
   ],
   "source": [
    "# CLIENT CODE\n",
    "radius = 2\n",
    "hole_radius = 1\n",
    "color = 'red'\n",
    "\n",
    "geom = CustomShape(base_shape=Circle(radius=radius,color=color),hole_shape=Circle(radius=hole_radius,color=color))\n",
    "geom.draw()"
   ]
  },
  {
   "cell_type": "code",
   "execution_count": null,
   "id": "f1f1f419-5062-4242-b763-7104113080d3",
   "metadata": {},
   "outputs": [],
   "source": []
  }
 ],
 "metadata": {
  "kernelspec": {
   "display_name": "Python 3 (ipykernel)",
   "language": "python",
   "name": "python3"
  },
  "language_info": {
   "codemirror_mode": {
    "name": "ipython",
    "version": 3
   },
   "file_extension": ".py",
   "mimetype": "text/x-python",
   "name": "python",
   "nbconvert_exporter": "python",
   "pygments_lexer": "ipython3",
   "version": "3.9.17"
  }
 },
 "nbformat": 4,
 "nbformat_minor": 5
}
