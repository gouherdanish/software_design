{
 "cells": [
  {
   "cell_type": "markdown",
   "id": "3e60b87c-2976-4ea1-9619-747f7df28669",
   "metadata": {},
   "source": [
    "## Basic Shapes"
   ]
  },
  {
   "cell_type": "markdown",
   "id": "ebff07de-6e58-40f3-866b-d72013274f84",
   "metadata": {},
   "source": [
    "Let's say our code supports `Circle` and `Square` as two basic shapes at the moment"
   ]
  },
  {
   "cell_type": "code",
   "execution_count": 14,
   "id": "65b00e4d-bb18-432b-a9ec-612ec49117da",
   "metadata": {},
   "outputs": [],
   "source": [
    "from abc import ABC, abstractmethod\n",
    "\n",
    "# Parent Class\n",
    "class Shape(ABC):\n",
    "    \n",
    "    @abstractmethod\n",
    "    def area(self):\n",
    "        pass\n",
    "\n",
    "# Child Class\n",
    "class Circle(Shape):\n",
    "    def __init__(self,**kwargs):\n",
    "        self.radius = kwargs['radius']\n",
    "        \n",
    "    def __repr__(self):\n",
    "        return f'Circle(r={self.radius})'\n",
    "        \n",
    "    @property\n",
    "    def area(self):\n",
    "        from math import pi\n",
    "        return pi * self.radius ** 2\n",
    "\n",
    "class Square(Shape):\n",
    "    def __init__(self,**kwargs):\n",
    "        self.side = kwargs['side']\n",
    "        \n",
    "    def __repr__(self):\n",
    "        return f'Square(a={self.side})'\n",
    "    \n",
    "    @property\n",
    "    def area(self):\n",
    "        return self.side ** 2\n"
   ]
  },
  {
   "cell_type": "markdown",
   "id": "ac724385-f64e-4afd-94fa-229b7c280cdd",
   "metadata": {},
   "source": [
    "## Composite Shapes"
   ]
  },
  {
   "cell_type": "markdown",
   "id": "5ff9fe84-2493-4de4-ab1c-ce9224c98dc2",
   "metadata": {},
   "source": [
    "Also as we learned in lesson 2, let's say we have a custom shape class which uses Composition to create composite shapes using a combination of two basic shapes\n",
    "\n",
    "- SquareWithHole\n",
    "- CircleWithHole\n",
    "- etc"
   ]
  },
  {
   "cell_type": "code",
   "execution_count": 15,
   "id": "cc2dac5a-70a4-470e-9d3b-994ab3423f02",
   "metadata": {},
   "outputs": [],
   "source": [
    "class CustomShape:\n",
    "    def __init__(self,**kwargs):\n",
    "        self.base_shape: Shape = kwargs['base_shape']\n",
    "        self.hole_shape: Shape = kwargs['hole_shape']\n",
    "\n",
    "    def __repr__(self):\n",
    "        return f'CustomShape(base_shape={self.base_shape}, hole_shape={self.hole_shape})'\n",
    "        \n",
    "    @property\n",
    "    def area(self):\n",
    "        return self.base_shape.area - self.hole_shape.area"
   ]
  },
  {
   "cell_type": "markdown",
   "id": "27d4b248-8b31-4073-95fe-364ecbbbec98",
   "metadata": {},
   "source": [
    "## Creating and Using Existing Supported Shapes is a breeze so far"
   ]
  },
  {
   "cell_type": "markdown",
   "id": "e2490502-0ea0-4cbd-94f5-260a8f1f3f28",
   "metadata": {},
   "source": [
    "Life was so easy, couldn't be any happier !"
   ]
  },
  {
   "cell_type": "code",
   "execution_count": 16,
   "id": "d78b7153-ba1e-4fd2-9427-cacdcc435531",
   "metadata": {},
   "outputs": [
    {
     "data": {
      "text/plain": [
       "(CustomShape(base_shape=Square(a=2), hole_shape=Circle(r=1)),\n",
       " 0.8584073464102069)"
      ]
     },
     "execution_count": 16,
     "metadata": {},
     "output_type": "execute_result"
    }
   ],
   "source": [
    "# INPUTS\n",
    "geom_type = 'squareWithHole'\n",
    "radius\n",
    "side = 2\n",
    "hole_radius = 1\n",
    "\n",
    "# CLIENT CODE\n",
    "if geom_type == 'circle':\n",
    "    geom = Circle(radius=radius)\n",
    "elif geom_type == 'square':\n",
    "    geom = Square(side=side)\n",
    "elif geom_type == 'circleWithHole':\n",
    "    geom = CustomShape(\n",
    "        base_shape=Circle(radius=radius),\n",
    "        hole_shape=Circle(radius=hole_radius))\n",
    "elif geom_type == 'squareWithHole':\n",
    "    geom = CustomShape(\n",
    "        base_shape=Square(side=side),\n",
    "        hole_shape=Circle(radius=hole_radius))\n",
    "else:\n",
    "    ...\n",
    "\n",
    "\n",
    "geom, geom.area"
   ]
  },
  {
   "cell_type": "markdown",
   "id": "246dcda1-1fc9-4178-acba-0466668c69d0",
   "metadata": {},
   "source": [
    "## New Requirement Comes - Need two new Basic Shapes"
   ]
  },
  {
   "attachments": {},
   "cell_type": "markdown",
   "id": "b37e5c13-d11f-4331-8d46-2c45882e0eb7",
   "metadata": {},
   "source": [
    "- Suppose we want to support two more basic shape `Hexagon` and `Rectangle` (New Feature)\n",
    "- Using Inheritance, we can achieve this by creating a sub-class and implementing its methods"
   ]
  },
  {
   "cell_type": "code",
   "execution_count": 18,
   "id": "eae5e78a-7c5f-4298-8104-36411b9ca473",
   "metadata": {},
   "outputs": [],
   "source": [
    "class Hexagon(Shape):\n",
    "    def __init__(self,**kwargs):\n",
    "        self.side = kwargs['side']\n",
    "        \n",
    "    def __repr__(self):\n",
    "        return f'Hexagon(a={self.side})'\n",
    "    \n",
    "    @property\n",
    "    def area(self):\n",
    "        factor = 0.5 *(3 ** 1.5)\n",
    "        return factor * self.side ** 2\n",
    "\n",
    "class Rectangle(Shape):\n",
    "    def __init__(self,**kwargs):\n",
    "        self.length = kwargs['length']\n",
    "        self.width = kwargs['width']\n",
    "        \n",
    "    def __repr__(self):\n",
    "        return f'Rectangle(l={self.length}, b={self.width})'\n",
    "    \n",
    "    @property\n",
    "    def area(self):\n",
    "        return self.length * self.width"
   ]
  },
  {
   "cell_type": "markdown",
   "id": "69b52d65-3906-4480-a639-eb1bd167c709",
   "metadata": {},
   "source": [
    "## But Client Code has to change"
   ]
  },
  {
   "cell_type": "markdown",
   "id": "37fb87b3-43e8-4804-83ce-057ec78a0883",
   "metadata": {},
   "source": [
    "- We need to add more if-else statements in the client code to accommodate the new shape's use\n",
    "- This shows that creation of appropriate objects is dependent on its use"
   ]
  },
  {
   "cell_type": "code",
   "execution_count": 31,
   "id": "cfccb404-bce4-4d9e-b481-43f34b464a4a",
   "metadata": {},
   "outputs": [
    {
     "data": {
      "text/plain": [
       "(Hexagon(a=2), 10.392304845413264)"
      ]
     },
     "execution_count": 31,
     "metadata": {},
     "output_type": "execute_result"
    }
   ],
   "source": [
    "# INPUTS\n",
    "geom_type = 'hexagon'\n",
    "side = 2\n",
    "hole_radius = 1\n",
    "\n",
    "# CLIENT CODE HAS TO CHANGE IN ORDER TO ACCOMMODATE NEW FEATURE `HEXAGON`\n",
    "if geom_type == 'circle':\n",
    "    geom = Circle(radius=radius)\n",
    "elif geom_type == 'square':\n",
    "    geom = Square(side=side)\n",
    "elif geom_type == 'circleWithHole':\n",
    "    geom = CustomShape(\n",
    "        base_shape=Circle(radius=radius),\n",
    "        hole_shape=Circle(radius=hole_radius))\n",
    "elif geom_type == 'squareWithHole':\n",
    "    geom = CustomShape(\n",
    "        base_shape=Square(side=side),\n",
    "        hole_shape=Circle(radius=hole_radius))\n",
    "elif geom_type == 'hexagon':\n",
    "    geom = Hexagon(side=side)\n",
    "else:\n",
    "    ...\n",
    "\n",
    "geom, geom.area"
   ]
  },
  {
   "cell_type": "code",
   "execution_count": 32,
   "id": "ef8f557f-3c31-4ee6-9f2e-4742f6d4c9b2",
   "metadata": {},
   "outputs": [
    {
     "data": {
      "text/plain": [
       "(Rectangle(l=3, b=3), 9)"
      ]
     },
     "execution_count": 32,
     "metadata": {},
     "output_type": "execute_result"
    }
   ],
   "source": [
    "# INPUTS\n",
    "geom_type = 'rectangle'\n",
    "length = 3\n",
    "width = 2\n",
    "\n",
    "# CLIENT CODE HAS TO CHANGE IN ORDER TO ACCOMMODATE NEW FEATURE `RECTANGLE`\n",
    "if geom_type == 'circle':\n",
    "    geom = Circle(radius=radius)\n",
    "elif geom_type == 'square':\n",
    "    geom = Square(side=side)\n",
    "elif geom_type == 'circleWithHole':\n",
    "    geom = CustomShape(\n",
    "        base_shape=Circle(radius=radius),\n",
    "        hole_shape=Circle(radius=hole_radius))\n",
    "elif geom_type == 'squareWithHole':\n",
    "    geom = CustomShape(\n",
    "        base_shape=Square(side=side),\n",
    "        hole_shape=Circle(radius=hole_radius))\n",
    "elif geom_type == 'hexagon':\n",
    "    geom = Hexagon(side=side)\n",
    "elif geom_type == 'rectangle':\n",
    "    geom = Rectangle(length=length,width=length)\n",
    "else:\n",
    "    ...\n",
    "\n",
    "geom, geom.area"
   ]
  },
  {
   "cell_type": "markdown",
   "id": "79b5c938-f0e7-40e4-a9db-e314413696f0",
   "metadata": {},
   "source": [
    "## Introducing Factory Method"
   ]
  },
  {
   "cell_type": "markdown",
   "id": "48a722d9-6126-4d47-8ac7-b18bdf6d433f",
   "metadata": {},
   "source": [
    "- Factory method is a wrapper function around the object creation part (if-else statements)\n",
    "- Using this factory method lets us separate the creation from use as it hides the object creation part from the client\n",
    "- Based on the input, Factory method instantiates appropriate objects by itself\n",
    "- Now we can see that client code does not need to change anymore"
   ]
  },
  {
   "cell_type": "code",
   "execution_count": 25,
   "id": "c5a66eba-ef86-488e-bbd9-169d277dfb5c",
   "metadata": {},
   "outputs": [],
   "source": [
    "# Separates Creation from Use\n",
    "# Based on a particular type of input, we want to create instance and process\n",
    "class ShapeFactory:\n",
    "    def get_shape(geom_type,**kwargs):\n",
    "        if geom_type == 'circle':\n",
    "            return Circle(radius=kwargs['radius'])\n",
    "        elif geom_type == 'square':\n",
    "            geom = Square(side=kwargs['side'])\n",
    "        elif geom_type == 'circleWithHole':\n",
    "            geom = CustomShape(\n",
    "                base_shape=Circle(radius=kwargs['radius']),\n",
    "                hole_shape=Circle(radius=kwargs['hole_radius']))\n",
    "        elif geom_type == 'squareWithHole':\n",
    "            geom = CustomShape(\n",
    "                base_shape=Square(side=kwargs['side']),\n",
    "                hole_shape=Circle(radius=kwargs['hole_radius']))\n",
    "        elif geom_type == 'hexagon':\n",
    "            geom = Hexagon(side=kwargs['side'])\n",
    "        elif geom_type == 'rectangle':\n",
    "            geom = Rectangle(length=kwargs['length'],width=kwargs['width'])\n",
    "        else:\n",
    "            ...\n",
    "        return geom"
   ]
  },
  {
   "cell_type": "code",
   "execution_count": 30,
   "id": "9573be96-48d1-4146-99b5-01acd6fd0fb4",
   "metadata": {},
   "outputs": [
    {
     "data": {
      "text/plain": [
       "(Square(a=2), 4)"
      ]
     },
     "execution_count": 30,
     "metadata": {},
     "output_type": "execute_result"
    }
   ],
   "source": [
    "# INPUTS\n",
    "geom_type = 'square'\n",
    "side = 2\n",
    "\n",
    "kwargs = {\n",
    "    'side':side\n",
    "}\n",
    "\n",
    "# CLIENT CODE STAYS SAME FOR ANY INPUT\n",
    "geom = ShapeFactory.get_shape(geom_type,**kwargs)\n",
    "geom, geom.area"
   ]
  },
  {
   "cell_type": "code",
   "execution_count": 28,
   "id": "a90b862a-ce1a-4d30-971c-c66b8bcf9fb9",
   "metadata": {},
   "outputs": [
    {
     "data": {
      "text/plain": [
       "(Hexagon(a=2), 10.392304845413264)"
      ]
     },
     "execution_count": 28,
     "metadata": {},
     "output_type": "execute_result"
    }
   ],
   "source": [
    "# INPUTS\n",
    "geom_type = 'hexagon'\n",
    "side = 2\n",
    "\n",
    "kwargs = {\n",
    "    'side':side\n",
    "}\n",
    "\n",
    "# CLIENT CODE STAYS SAME FOR ANY INPUT\n",
    "geom = ShapeFactory.get_shape(geom_type,**kwargs)\n",
    "geom, geom.area"
   ]
  },
  {
   "cell_type": "code",
   "execution_count": 29,
   "id": "8002d79f-8c4c-401f-b60c-76c0b26751e4",
   "metadata": {},
   "outputs": [
    {
     "data": {
      "text/plain": [
       "(Rectangle(l=3, b=2), 6)"
      ]
     },
     "execution_count": 29,
     "metadata": {},
     "output_type": "execute_result"
    }
   ],
   "source": [
    "# INPUTS\n",
    "geom_type = 'rectangle'\n",
    "length = 3\n",
    "width = 2\n",
    "\n",
    "kwargs = {\n",
    "    'length':length,\n",
    "    'width':width,\n",
    "}\n",
    "\n",
    "# CLIENT CODE STAYS SAME FOR ANY INPUT\n",
    "geom = ShapeFactory.get_shape(geom_type,**kwargs)\n",
    "geom, geom.area"
   ]
  },
  {
   "cell_type": "code",
   "execution_count": null,
   "id": "0e4be484-cc87-4e64-b660-d01b2a85f2d9",
   "metadata": {},
   "outputs": [],
   "source": []
  }
 ],
 "metadata": {
  "kernelspec": {
   "display_name": "Python 3 (ipykernel)",
   "language": "python",
   "name": "python3"
  },
  "language_info": {
   "codemirror_mode": {
    "name": "ipython",
    "version": 3
   },
   "file_extension": ".py",
   "mimetype": "text/x-python",
   "name": "python",
   "nbconvert_exporter": "python",
   "pygments_lexer": "ipython3",
   "version": "3.9.17"
  }
 },
 "nbformat": 4,
 "nbformat_minor": 5
}
