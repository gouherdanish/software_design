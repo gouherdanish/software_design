{
 "cells": [
  {
   "cell_type": "markdown",
   "id": "2885be40-8f7f-4bba-b1d9-3541b8e5b759",
   "metadata": {},
   "source": [
    "## Problem"
   ]
  },
  {
   "cell_type": "markdown",
   "id": "d21fa7bf-823d-4019-a784-15914bff5f3e",
   "metadata": {},
   "source": [
    "**Based on the user input, we need to do some task**\n",
    "\n",
    "```\n",
    "if geom_type == 'circle': draw a circle\n",
    "elif geom_type == 'square': draw a square\n",
    "elif ...\n",
    "```"
   ]
  },
  {
   "cell_type": "markdown",
   "id": "1eb2dfde-fa50-40ac-9ac9-b861b2216290",
   "metadata": {},
   "source": [
    "# Step 1"
   ]
  },
  {
   "cell_type": "markdown",
   "id": "1cb40827-dba9-4c46-8eda-57e5be3f91eb",
   "metadata": {},
   "source": [
    "## Monolithic Code"
   ]
  },
  {
   "cell_type": "code",
   "execution_count": 2,
   "id": "dc7db53c-4c64-49ac-892e-294fe7afff4f",
   "metadata": {},
   "outputs": [],
   "source": [
    "def draw(geom_type):\n",
    "    if geom_type == 'circle':\n",
    "        print(\"Drawing a circle\")\n",
    "    elif geom_type == 'square':\n",
    "        print(\"Drawing a square\")\n",
    "    else:\n",
    "        ..."
   ]
  },
  {
   "cell_type": "code",
   "execution_count": 4,
   "id": "1635b1d9-4964-4506-98d4-760930b353cc",
   "metadata": {},
   "outputs": [
    {
     "name": "stdout",
     "output_type": "stream",
     "text": [
      "Drawing a square\n"
     ]
    }
   ],
   "source": [
    "# CLIENT CODE\n",
    "geom_type = 'square'\n",
    "draw(geom_type)"
   ]
  },
  {
   "cell_type": "markdown",
   "id": "393c06ac-b835-48f2-99a6-9d6f583564b1",
   "metadata": {},
   "source": [
    "# Step 2"
   ]
  },
  {
   "cell_type": "markdown",
   "id": "df2b94d6-1108-4a41-840c-8a13d5ace9c3",
   "metadata": {},
   "source": [
    "## Towards Modular Code With Classes"
   ]
  },
  {
   "cell_type": "code",
   "execution_count": 5,
   "id": "bfcce580-32c4-48ea-ab5e-14b42c2a73af",
   "metadata": {},
   "outputs": [],
   "source": [
    "from abc import ABC, abstractmethod\n",
    "\n",
    "# Parent Class\n",
    "class Shape(ABC):\n",
    "    @abstractmethod\n",
    "    def draw(self):\n",
    "        pass\n",
    "    \n",
    "    @abstractmethod\n",
    "    def area(self):\n",
    "        pass"
   ]
  },
  {
   "cell_type": "code",
   "execution_count": 6,
   "id": "ab3d005d-9d6b-4ad2-8d4b-c3c4dab7c580",
   "metadata": {},
   "outputs": [],
   "source": [
    "from math import pi"
   ]
  },
  {
   "cell_type": "code",
   "execution_count": 7,
   "id": "e4e5a52a-8b1c-4196-af4a-a4e8825be3d7",
   "metadata": {},
   "outputs": [],
   "source": [
    "# Child Class\n",
    "class Circle(Shape):\n",
    "    def __init__(self,**kwargs):\n",
    "        self.radius = kwargs['radius']\n",
    "        \n",
    "    def draw(self):\n",
    "        return \"Drawing a circle\"\n",
    "        \n",
    "    @property\n",
    "    def area(self):\n",
    "        return pi * self.radius ** 2\n",
    "\n",
    "class Square(Shape):\n",
    "    def __init__(self,**kwargs):\n",
    "        self.side = kwargs['side']\n",
    "        \n",
    "    def draw(self):\n",
    "        return \"Drawing a square\"\n",
    "        \n",
    "    @property\n",
    "    def area(self):\n",
    "        return self.side ** 2\n"
   ]
  },
  {
   "cell_type": "code",
   "execution_count": 9,
   "id": "ff54aaab-580f-4fbf-98d3-a6a64442cd7f",
   "metadata": {},
   "outputs": [
    {
     "name": "stdout",
     "output_type": "stream",
     "text": [
      "Drawing a circle of area 12.566370614359172\n"
     ]
    }
   ],
   "source": [
    "# CLIENT CODE\n",
    "geom_type = 'circle'\n",
    "radius = 2\n",
    "side = 2\n",
    "\n",
    "if geom_type == 'circle':\n",
    "    geom = Circle(radius=radius)\n",
    "elif geom_type == 'square':\n",
    "    geom = Square(side=side)\n",
    "else:\n",
    "    ...\n",
    "print(f'{geom.draw()} of area {geom.area}')"
   ]
  },
  {
   "cell_type": "markdown",
   "id": "46d85123-0fb1-427a-baa6-e9afeee8e59e",
   "metadata": {},
   "source": [
    "# Step 3.1 - Introducing Composition"
   ]
  },
  {
   "cell_type": "markdown",
   "id": "1841c320-5068-4eb5-bd3e-12adff82e23f",
   "metadata": {},
   "source": [
    "### Prob 1) Class Hierarchy introduces Coupling (is-A relation)"
   ]
  },
  {
   "cell_type": "code",
   "execution_count": 10,
   "id": "92c6ba31-1841-42d3-ba62-95e1f9c8db51",
   "metadata": {},
   "outputs": [],
   "source": [
    "# Child Class\n",
    "class Circle(Shape):\n",
    "    def __init__(self,**kwargs):\n",
    "        self.radius = kwargs['radius']\n",
    "        \n",
    "    def draw(self):\n",
    "        return \"Drawing a circle\"\n",
    "        \n",
    "    @property\n",
    "    def area(self):\n",
    "        return pi * self.radius ** 2\n",
    "\n",
    "class Square(Shape):\n",
    "    def __init__(self,**kwargs):\n",
    "        self.side = kwargs['side']\n",
    "        \n",
    "    def draw(self):\n",
    "        return \"Drawing a square\"\n",
    "        \n",
    "    @property\n",
    "    def area(self):\n",
    "        return self.side ** 2\n",
    "\n",
    "# Class Hierarchy\n",
    "class CircleWithHole(Circle):\n",
    "    def __init__(self,**kwargs):\n",
    "        super().__init__(radius=kwargs['radius'])\n",
    "        self.hole_radius = kwargs['hole_radius']\n",
    "        \n",
    "    def draw(self):\n",
    "        return \"Drawing a circle with hole\"\n",
    "        \n",
    "    @property\n",
    "    def area(self):\n",
    "        return super().area - pi * self.hole_radius ** 2"
   ]
  },
  {
   "cell_type": "code",
   "execution_count": 11,
   "id": "3a571840-de0c-4df0-a633-27a661313aeb",
   "metadata": {},
   "outputs": [
    {
     "data": {
      "text/plain": [
       "<__main__.CircleWithHole at 0x7fec3756ddc0>"
      ]
     },
     "execution_count": 11,
     "metadata": {},
     "output_type": "execute_result"
    }
   ],
   "source": [
    "# CLIENT CODE\n",
    "geom_type = 'circleWithHole'\n",
    "radius = 2\n",
    "side = 2\n",
    "hole_radius = 1\n",
    "\n",
    "if geom_type == 'circle':\n",
    "    geom = Circle(radius=radius)\n",
    "elif geom_type == 'square':\n",
    "    geom = Square(side=side)\n",
    "elif geom_type == 'circleWithHole':\n",
    "    geom = CircleWithHole(radius=radius,hole_radius=hole_radius)\n",
    "else:\n",
    "    ...\n",
    "geom"
   ]
  },
  {
   "cell_type": "code",
   "execution_count": 12,
   "id": "00d178ad-7fdc-404a-afac-0b21b2df8605",
   "metadata": {},
   "outputs": [
    {
     "name": "stdout",
     "output_type": "stream",
     "text": [
      "Drawing a circle with hole of area 9.42477796076938\n"
     ]
    }
   ],
   "source": [
    "print(f'{geom.draw()} of area {geom.area}')"
   ]
  },
  {
   "cell_type": "markdown",
   "id": "eb96ddd6-8ab5-46c9-8942-93492da2a3af",
   "metadata": {},
   "source": [
    "### Sol 1) Removing coupling through Composition (has-A relation)"
   ]
  },
  {
   "cell_type": "code",
   "execution_count": 13,
   "id": "35d91aac-deea-4572-a6e8-c998d2597e3b",
   "metadata": {},
   "outputs": [],
   "source": [
    "from abc import ABC, abstractmethod\n",
    "\n",
    "# Parent Class\n",
    "class Shape(ABC):\n",
    "    \n",
    "    @abstractmethod\n",
    "    def area(self):\n",
    "        pass\n",
    "\n",
    "# Child Class\n",
    "class Circle(Shape):\n",
    "    def __init__(self,**kwargs):\n",
    "        self.radius = kwargs['radius']\n",
    "        \n",
    "    def __repr__(self):\n",
    "        return f'Circle(r={self.radius})'\n",
    "        \n",
    "    @property\n",
    "    def area(self):\n",
    "        return pi * self.radius ** 2\n",
    "\n",
    "class Square(Shape):\n",
    "    def __init__(self,**kwargs):\n",
    "        self.side = kwargs['side']\n",
    "        \n",
    "    def __repr__(self):\n",
    "        return f'Square(a={self.side})'\n",
    "        \n",
    "    @property\n",
    "    def area(self):\n",
    "        return self.side ** 2"
   ]
  },
  {
   "cell_type": "code",
   "execution_count": 15,
   "id": "501a2312-7576-40bc-a02c-2c5734335bf5",
   "metadata": {},
   "outputs": [],
   "source": [
    "from dataclasses import dataclass, field\n",
    "\n",
    "@dataclass\n",
    "class CustomShape:\n",
    "    base_shape: Shape\n",
    "    hole_shape: Shape\n",
    "\n",
    "    @property\n",
    "    def area(self):\n",
    "        return self.base_shape.area - self.hole_shape.area"
   ]
  },
  {
   "cell_type": "code",
   "execution_count": 18,
   "id": "ed0c5648-1ec1-4bdd-a4ec-6c192ec82afa",
   "metadata": {},
   "outputs": [
    {
     "data": {
      "text/plain": [
       "CustomShape(base_shape=Square(a=2), hole_shape=Circle(r=1))"
      ]
     },
     "execution_count": 18,
     "metadata": {},
     "output_type": "execute_result"
    }
   ],
   "source": [
    "# CLIENT CODE\n",
    "geom_type = 'square'\n",
    "radius = 2\n",
    "side = 2\n",
    "hole_radius = 1\n",
    "\n",
    "if geom_type == 'circle':\n",
    "    base_shape = Circle(radius=radius)\n",
    "elif geom_type == 'square':\n",
    "    base_shape = Square(side=side)\n",
    "    \n",
    "hole_shape = Circle(radius=hole_radius)\n",
    "geom = CustomShape(base_shape=base_shape,hole_shape=hole_shape)\n",
    "geom"
   ]
  },
  {
   "cell_type": "code",
   "execution_count": 19,
   "id": "755320b2-6878-4ca2-a9fa-82e8335a35b1",
   "metadata": {},
   "outputs": [
    {
     "name": "stdout",
     "output_type": "stream",
     "text": [
      "Area = 0.8584073464102069\n"
     ]
    }
   ],
   "source": [
    "print(f'Area = {geom.area}')"
   ]
  },
  {
   "cell_type": "markdown",
   "id": "4555281f-dc45-42b9-926c-8ef15c942ba6",
   "metadata": {},
   "source": [
    "# Step 3.2 - Introducing Factory"
   ]
  },
  {
   "cell_type": "markdown",
   "id": "fc77a193-ecd2-491c-b8a2-374e017a250f",
   "metadata": {
    "tags": []
   },
   "source": [
    "### Prob 2) Client Code has to change for adding new shapes"
   ]
  },
  {
   "cell_type": "code",
   "execution_count": 20,
   "id": "ef87c277-c960-43c4-adbd-6873dc99bdcf",
   "metadata": {},
   "outputs": [],
   "source": [
    "from abc import ABC, abstractmethod\n",
    "\n",
    "# Parent Class\n",
    "class Shape(ABC):\n",
    "    \n",
    "    @abstractmethod\n",
    "    def area(self):\n",
    "        pass\n",
    "\n",
    "# Child Class\n",
    "@dataclass\n",
    "class Circle(Shape):\n",
    "    def __init__(self,**kwargs):\n",
    "        self.radius = kwargs['radius']\n",
    "        \n",
    "    def __repr__(self):\n",
    "        return f'Circle(r={self.radius})'\n",
    "        \n",
    "    @property\n",
    "    def area(self):\n",
    "        return pi * self.radius ** 2\n",
    "\n",
    "@dataclass\n",
    "class Square(Shape):\n",
    "    def __init__(self,**kwargs):\n",
    "        self.side = kwargs['side']\n",
    "        \n",
    "    def __repr__(self):\n",
    "        return f'Square(a={self.side})'\n",
    "    \n",
    "    @property\n",
    "    def area(self):\n",
    "        return self.side ** 2\n",
    "    \n",
    "@dataclass  \n",
    "class Hexagon(Shape):\n",
    "    def __init__(self,**kwargs):\n",
    "        self.side = kwargs['side']\n",
    "        \n",
    "    def __repr__(self):\n",
    "        return f'Hexagon(a={self.side})'\n",
    "    \n",
    "    @property\n",
    "    def area(self):\n",
    "        factor = 0.5 *(3 ** 1.5)\n",
    "        return factor * self.side ** 2"
   ]
  },
  {
   "cell_type": "code",
   "execution_count": 21,
   "id": "52345538-a810-46c7-adf8-1394fb908370",
   "metadata": {},
   "outputs": [],
   "source": [
    "# CLIENT CODE\n",
    "geom_type = 'hexagon'\n",
    "radius = 2\n",
    "side = 2\n",
    "hole_radius = 1\n",
    "\n",
    "if geom_type == 'circle':\n",
    "    geom = Circle(radius=radius)\n",
    "elif geom_type == 'square':\n",
    "    geom = Square(side=side)\n",
    "elif geom_type == 'hexagon':\n",
    "    geom = Hexagon(side=side)\n",
    "else:\n",
    "    ...\n"
   ]
  },
  {
   "cell_type": "code",
   "execution_count": 22,
   "id": "3c49cf1b-5cfd-4022-a797-03b3e29e47a0",
   "metadata": {},
   "outputs": [
    {
     "data": {
      "text/plain": [
       "Hexagon(a=2)"
      ]
     },
     "execution_count": 22,
     "metadata": {},
     "output_type": "execute_result"
    }
   ],
   "source": [
    "geom"
   ]
  },
  {
   "cell_type": "code",
   "execution_count": 23,
   "id": "8ced35fa-53db-4d70-b59f-d7fd6c3c582f",
   "metadata": {},
   "outputs": [
    {
     "name": "stdout",
     "output_type": "stream",
     "text": [
      "Area = 10.392304845413264\n"
     ]
    }
   ],
   "source": [
    "print(f'Area = {geom.area}')"
   ]
  },
  {
   "cell_type": "markdown",
   "id": "2ca19a17-618c-4b22-8f4f-f9e80c26791f",
   "metadata": {
    "tags": []
   },
   "source": [
    "### Sol 2) - Separating Creation From Use - Factory Pattern"
   ]
  },
  {
   "cell_type": "code",
   "execution_count": 24,
   "id": "ad87fcf6-fbaa-4d3a-971a-62c8e6781dd9",
   "metadata": {},
   "outputs": [],
   "source": [
    "# Separates Creation from Use\n",
    "# Based on a particular type of input, we want to create instance and process\n",
    "class ShapeFactory:\n",
    "    def get_shape(geom_type,**kwargs):\n",
    "        if geom_type == 'circle':\n",
    "            return Circle(radius=kwargs['radius'])\n",
    "        elif geom_type == 'square':\n",
    "            geom = Square(side=kwargs['side'])\n",
    "        elif geom_type == 'hexagon':\n",
    "            geom = Hexagon(side=kwargs['side'])\n",
    "        elif geom_type == 'circleWithHole':\n",
    "            geom = CustomShape(\n",
    "                base_shape=Circle(radius=kwargs['radius']),\n",
    "                hole_shape=Circle(radius=kwargs['hole_radius']))\n",
    "        elif geom_type == 'squareWithHole':\n",
    "            geom = CustomShape(\n",
    "                base_shape=Square(side=kwargs['side']),\n",
    "                hole_shape=Circle(radius=kwargs['hole_radius']))\n",
    "        else:\n",
    "            ...\n",
    "        return geom"
   ]
  },
  {
   "cell_type": "code",
   "execution_count": 28,
   "id": "0bc63aa8-d17f-4052-889c-24d684e6c52b",
   "metadata": {},
   "outputs": [
    {
     "data": {
      "text/plain": [
       "CustomShape(base_shape=Circle(r=2), hole_shape=Circle(r=1))"
      ]
     },
     "execution_count": 28,
     "metadata": {},
     "output_type": "execute_result"
    }
   ],
   "source": [
    "# CLIENT CODE\n",
    "geom_type = 'circleWithHole'\n",
    "radius = 2\n",
    "side = 2\n",
    "hole_radius = 1\n",
    "\n",
    "kwargs = {\n",
    "    'radius':radius,\n",
    "    'side':side,\n",
    "    'hole_radius':hole_radius\n",
    "}\n",
    "\n",
    "geom = ShapeFactory.get_shape(geom_type,**kwargs)\n",
    "geom"
   ]
  },
  {
   "cell_type": "code",
   "execution_count": 29,
   "id": "8ac734b8-b9c9-437b-8ebd-63dec2a55ca0",
   "metadata": {},
   "outputs": [
    {
     "data": {
      "text/plain": [
       "9.42477796076938"
      ]
     },
     "execution_count": 29,
     "metadata": {},
     "output_type": "execute_result"
    }
   ],
   "source": [
    "geom.area"
   ]
  },
  {
   "cell_type": "code",
   "execution_count": null,
   "id": "67b7869d-d669-48b3-8c53-4b1c1d4a6c59",
   "metadata": {},
   "outputs": [],
   "source": []
  },
  {
   "cell_type": "markdown",
   "id": "16bc1589-d3a9-4e04-9d20-20d7dfb231c5",
   "metadata": {},
   "source": [
    "# Step 4 - Factory in Production"
   ]
  },
  {
   "cell_type": "code",
   "execution_count": 30,
   "id": "0173be33-902e-44ef-b230-7ab79688b1ae",
   "metadata": {},
   "outputs": [],
   "source": [
    "class ShapesFactory:\n",
    "    \"\"\"\n",
    "    Factory class to register new shapes\n",
    "    \"\"\"    \n",
    "    registry = {}\n",
    "    @classmethod\n",
    "    def register_shape(cls,geom_type:str):\n",
    "        def inner(wrapped_cls):\n",
    "            cls.registry[geom_type] = wrapped_cls\n",
    "            return wrapped_cls\n",
    "        return inner\n",
    "    \n",
    "    @classmethod\n",
    "    def get_shape(cls,geom_type:str,**kwargs):\n",
    "        return cls.registry[geom_type](**kwargs)"
   ]
  },
  {
   "cell_type": "code",
   "execution_count": null,
   "id": "54673c2a-6673-4df3-8614-397cc76269f5",
   "metadata": {},
   "outputs": [],
   "source": [
    "{\n",
    "    'circle':Circle(radius),\n",
    "    'square':Square(side),\n",
    "}"
   ]
  },
  {
   "cell_type": "code",
   "execution_count": 56,
   "id": "7839405b-723e-4b6e-9e62-38496e030ad9",
   "metadata": {},
   "outputs": [],
   "source": [
    "from abc import ABC, abstractmethod\n",
    "\n",
    "@dataclass\n",
    "class RegularShape(ABC):\n",
    "    \n",
    "    @abstractmethod\n",
    "    def area(self):\n",
    "        pass\n",
    "\n",
    "\n",
    "@dataclass\n",
    "class CustomShape:\n",
    "    base_shape: Shape\n",
    "    hole_shape: Shape\n",
    "\n",
    "    @property\n",
    "    def area(self):\n",
    "        return self.base_shape.area - self.hole_shape.area\n",
    "    \n",
    "@dataclass\n",
    "@ShapesFactory.register_shape('circle')\n",
    "class Circle(RegularShape):\n",
    "    \n",
    "    def __init__(self,**kwargs):\n",
    "        self.radius = kwargs['radius']\n",
    "        \n",
    "    def __repr__(self):\n",
    "        return f'Circle(r={self.radius})'\n",
    "    \n",
    "    @property\n",
    "    def area(self):\n",
    "        # from math import pi\n",
    "        return pi * self.radius ** 2\n",
    "        \n",
    "@dataclass     \n",
    "@ShapesFactory.register_shape('square')\n",
    "class Square(RegularShape):\n",
    "    \n",
    "    def __init__(self,**kwargs):\n",
    "        self.side = kwargs['side']\n",
    "        \n",
    "    def __repr__(self):\n",
    "        return f'Square(a={self.side})'\n",
    "    \n",
    "    @property\n",
    "    def area(self):\n",
    "        return self.side ** 2\n",
    "\n",
    "@dataclass        \n",
    "@ShapesFactory.register_shape('hexagon')\n",
    "class Hexagon(RegularShape):\n",
    "    def __init__(self,**kwargs):\n",
    "        self.side = kwargs['side']\n",
    "        \n",
    "    def __repr__(self):\n",
    "        return f'Hexagon(a={self.side})'\n",
    "    \n",
    "    @property\n",
    "    def area(self):\n",
    "        factor = 0.5 *(3 ** 1.5)\n",
    "        return factor * self.side ** 2\n",
    "    \n",
    "@dataclass\n",
    "@ShapesFactory.register_shape('circleWithHole')\n",
    "class CircleWithHole(CustomShape):\n",
    "    def __init__(self,**kwargs):\n",
    "        self.base_shape = Circle(radius=kwargs['radius'])\n",
    "        self.hole_shape = Circle(radius=kwargs['hole_radius'])\n",
    "        \n",
    "    def __repr__(self):\n",
    "        return f\"CircleWithHole(r={self.base_shape.radius},r'={self.hole_shape.radius})\"\n",
    "    \n",
    "@dataclass\n",
    "@ShapesFactory.register_shape('squareWithHole')\n",
    "class SquareWithHole(CustomShape):\n",
    "    def __init__(self,**kwargs):\n",
    "        self.base_shape = Square(side=kwargs['side'])\n",
    "        self.hole_shape = Circle(radius=kwargs['hole_radius'])\n",
    "        \n",
    "    def __repr__(self):\n",
    "        return f\"SquareWithHole(a={self.base_shape.side},r'={self.hole_shape.radius})\"\n",
    "    \n",
    "\n",
    "# Implementing New Regular Shape \n",
    "@dataclass        \n",
    "@ShapesFactory.register_shape('rectangle')\n",
    "class Rectangle(RegularShape):\n",
    "    def __init__(self,**kwargs):\n",
    "        self.length = kwargs['length']\n",
    "        self.width = kwargs['width']\n",
    "        \n",
    "    def __repr__(self):\n",
    "        return f'Rectangle(l={self.length}, b={self.width})'\n",
    "    \n",
    "    @property\n",
    "    def area(self):\n",
    "        return self.length * self.width\n",
    "    \n",
    "# Implementing Custom Shapes by just extending the class and implementing\n",
    "@dataclass\n",
    "@ShapesFactory.register_shape('hexagonWithHole')\n",
    "class HexagonWithHole(CustomShape):\n",
    "    def __init__(self,**kwargs):\n",
    "        self.base_shape = Hexagon(side=kwargs['side'])\n",
    "        self.hole_shape = Circle(radius=kwargs['hole_radius'])\n",
    "        \n",
    "    def __repr__(self):\n",
    "        return f\"HexagonWithHole({self.base_shape},{self.hole_shape})\"\n",
    "    \n",
    "\n",
    "# New features can be implemented by just extending the class and implementing\n",
    "@dataclass\n",
    "@ShapesFactory.register_shape('rectangleWithHole')\n",
    "class RectangleWithHole(CustomShape):\n",
    "    def __init__(self,**kwargs):\n",
    "        self.base_shape = Rectangle(length=kwargs['length'],width=kwargs['width'])\n",
    "        self.hole_shape = Circle(radius=kwargs['hole_radius'])\n",
    "        \n",
    "    def __repr__(self):\n",
    "        return f\"RectangleWithHole({self.base_shape},{self.hole_shape})\""
   ]
  },
  {
   "cell_type": "code",
   "execution_count": 32,
   "id": "060c336d-5db5-467e-b0f7-98ac6d7ff00e",
   "metadata": {},
   "outputs": [
    {
     "name": "stdout",
     "output_type": "stream",
     "text": [
      "Square(a=2), area = 4\n"
     ]
    }
   ],
   "source": [
    "# CLIENT CODE\n",
    "geom_type = 'square'\n",
    "radius = 2\n",
    "side = 2\n",
    "hole_radius = 1\n",
    "\n",
    "kwargs = {\n",
    "    'radius':radius,\n",
    "    'side':side,\n",
    "    'hole_radius':hole_radius\n",
    "}\n",
    "\n",
    "geom = ShapesFactory.get_shape(geom_type,**kwargs)\n",
    "print(f'{geom}, area = {geom.area}')"
   ]
  },
  {
   "cell_type": "code",
   "execution_count": 33,
   "id": "40bef9af-0f9f-4d8c-a0c1-207bf37f97da",
   "metadata": {},
   "outputs": [
    {
     "name": "stdout",
     "output_type": "stream",
     "text": [
      "Circle(r=2), area = 12.566370614359172\n"
     ]
    }
   ],
   "source": [
    "# CLIENT CODE\n",
    "geom_type = 'circle'\n",
    "radius = 2\n",
    "side = 2\n",
    "hole_radius = 1\n",
    "\n",
    "kwargs = {\n",
    "    'radius':radius,\n",
    "    'side':side,\n",
    "    'hole_radius':hole_radius\n",
    "}\n",
    "\n",
    "geom = ShapesFactory.get_shape(geom_type,**kwargs)\n",
    "print(f'{geom}, area = {geom.area}')"
   ]
  },
  {
   "cell_type": "code",
   "execution_count": 34,
   "id": "bac76c40-85bf-4709-b607-1aa35e7f0929",
   "metadata": {},
   "outputs": [
    {
     "name": "stdout",
     "output_type": "stream",
     "text": [
      "CircleWithHole(r=2,r'=1), area = 9.42477796076938\n"
     ]
    }
   ],
   "source": [
    "# CLIENT CODE\n",
    "geom_type = 'circleWithHole'\n",
    "radius = 2\n",
    "side = 2\n",
    "hole_radius = 1\n",
    "\n",
    "kwargs = {\n",
    "    'radius':radius,\n",
    "    'side':side,\n",
    "    'hole_radius':hole_radius\n",
    "}\n",
    "\n",
    "geom = ShapesFactory.get_shape(geom_type,**kwargs)\n",
    "print(f'{geom}, area = {geom.area}')"
   ]
  },
  {
   "cell_type": "code",
   "execution_count": 35,
   "id": "6b56e24e-be21-4179-94fb-67bcd6164073",
   "metadata": {},
   "outputs": [
    {
     "name": "stdout",
     "output_type": "stream",
     "text": [
      "SquareWithHole(a=2,r'=1), area = 0.8584073464102069\n"
     ]
    }
   ],
   "source": [
    "# CLIENT CODE\n",
    "geom_type = 'squareWithHole'\n",
    "radius = 2\n",
    "side = 2\n",
    "hole_radius = 1\n",
    "\n",
    "kwargs = {\n",
    "    'radius':radius,\n",
    "    'side':side,\n",
    "    'hole_radius':hole_radius\n",
    "}\n",
    "\n",
    "geom = ShapesFactory.get_shape(geom_type,**kwargs)\n",
    "print(f'{geom}, area = {geom.area}')"
   ]
  },
  {
   "cell_type": "code",
   "execution_count": 58,
   "id": "f92584ff-6946-4361-8576-1fb1a8a77e97",
   "metadata": {},
   "outputs": [
    {
     "name": "stdout",
     "output_type": "stream",
     "text": [
      "HexagonWithHole(Hexagon(a=2),Circle(r=1)), area = 7.250712191823471\n"
     ]
    }
   ],
   "source": [
    "# CLIENT CODE\n",
    "geom_type = 'hexagonWithHole'\n",
    "radius = 2\n",
    "side = 2\n",
    "hole_radius = 1\n",
    "\n",
    "kwargs = {\n",
    "    'radius':radius,\n",
    "    'side':side,\n",
    "    'hole_radius':hole_radius\n",
    "}\n",
    "\n",
    "geom = ShapesFactory.get_shape(geom_type,**kwargs)\n",
    "print(f'{geom}, area = {geom.area}')"
   ]
  },
  {
   "cell_type": "code",
   "execution_count": 57,
   "id": "206c8bd4-73cb-4e4d-8697-5d56a7ee46e4",
   "metadata": {},
   "outputs": [
    {
     "name": "stdout",
     "output_type": "stream",
     "text": [
      "RectangleWithHole(Rectangle(l=3, b=2),Circle(r=1)), area = 2.858407346410207\n"
     ]
    }
   ],
   "source": [
    "# CLIENT CODE\n",
    "geom_type = 'rectangleWithHole'\n",
    "length = 3\n",
    "width = 2\n",
    "hole_radius = 1\n",
    "\n",
    "kwargs = {\n",
    "    'radius':radius,\n",
    "    'length':length,\n",
    "    'width':width,\n",
    "    'hole_radius':hole_radius\n",
    "}\n",
    "\n",
    "geom = ShapesFactory.get_shape(geom_type,**kwargs)\n",
    "print(f'{geom}, area = {geom.area}')"
   ]
  },
  {
   "cell_type": "code",
   "execution_count": null,
   "id": "a18766a4-382d-48cc-8617-4ce63402bebf",
   "metadata": {},
   "outputs": [],
   "source": []
  }
 ],
 "metadata": {
  "kernelspec": {
   "display_name": "Python 3 (ipykernel)",
   "language": "python",
   "name": "python3"
  },
  "language_info": {
   "codemirror_mode": {
    "name": "ipython",
    "version": 3
   },
   "file_extension": ".py",
   "mimetype": "text/x-python",
   "name": "python",
   "nbconvert_exporter": "python",
   "pygments_lexer": "ipython3",
   "version": "3.9.17"
  }
 },
 "nbformat": 4,
 "nbformat_minor": 5
}
